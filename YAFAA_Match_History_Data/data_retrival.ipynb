{
 "cells": [
  {
   "cell_type": "code",
   "execution_count": 1,
   "metadata": {},
   "outputs": [
    {
     "data": {
      "text/html": [
       "<pre style=\"white-space:pre;overflow-x:auto;line-height:normal;font-family:Menlo,'DejaVu Sans Mono',consolas,'Courier New',monospace\"><span style=\"color: #7fbfbf; text-decoration-color: #7fbfbf\">[12/18/23 01:08:20] </span><span style=\"color: #000080; text-decoration-color: #000080\">INFO    </span> No custom team name replacements found. You can configure these in       <span style=\"color: #7f7f7f; text-decoration-color: #7f7f7f\">_config.py:84</span>\n",
       "<span style=\"color: #7fbfbf; text-decoration-color: #7fbfbf\">                    </span>         C:\\Users\\ITOULI\\soccerdata\\config\\teamname_replacements.json.            <span style=\"color: #7f7f7f; text-decoration-color: #7f7f7f\">             </span>\n",
       "</pre>\n"
      ],
      "text/plain": [
       "\u001b[2;36m[12/18/23 01:08:20]\u001b[0m\u001b[2;36m \u001b[0m\u001b[34mINFO    \u001b[0m No custom team name replacements found. You can configure these in       \u001b[2m_config.py\u001b[0m\u001b[2m:\u001b[0m\u001b[2m84\u001b[0m\n",
       "\u001b[2;36m                    \u001b[0m         C:\\Users\\ITOULI\\soccerdata\\config\\teamname_replacements.json.            \u001b[2m             \u001b[0m\n"
      ]
     },
     "metadata": {},
     "output_type": "display_data"
    },
    {
     "data": {
      "text/html": [
       "<pre style=\"white-space:pre;overflow-x:auto;line-height:normal;font-family:Menlo,'DejaVu Sans Mono',consolas,'Courier New',monospace\"><span style=\"color: #7fbfbf; text-decoration-color: #7fbfbf\">                    </span><span style=\"color: #000080; text-decoration-color: #000080\">INFO    </span> No custom league dict found. You can configure additional leagues in    <span style=\"color: #7f7f7f; text-decoration-color: #7f7f7f\">_config.py:162</span>\n",
       "<span style=\"color: #7fbfbf; text-decoration-color: #7fbfbf\">                    </span>         C:\\Users\\ITOULI\\soccerdata\\config\\league_dict.json.                     <span style=\"color: #7f7f7f; text-decoration-color: #7f7f7f\">              </span>\n",
       "</pre>\n"
      ],
      "text/plain": [
       "\u001b[2;36m                   \u001b[0m\u001b[2;36m \u001b[0m\u001b[34mINFO    \u001b[0m No custom league dict found. You can configure additional leagues in    \u001b[2m_config.py\u001b[0m\u001b[2m:\u001b[0m\u001b[2m162\u001b[0m\n",
       "\u001b[2;36m                    \u001b[0m         C:\\Users\\ITOULI\\soccerdata\\config\\league_dict.json.                     \u001b[2m              \u001b[0m\n"
      ]
     },
     "metadata": {},
     "output_type": "display_data"
    }
   ],
   "source": [
    "import soccerdata as sd\n",
    "import pandas as pd"
   ]
  },
  {
   "cell_type": "code",
   "execution_count": 11,
   "metadata": {},
   "outputs": [],
   "source": [
    "seasons = [ '1819', '1920', '2021', '2122', '2223']\n",
    "leagues = [\"ENG-Premier League\", \"ESP-La Liga\", \"ITA-Serie A\", \"GER-Bundesliga\", \"FRA-Ligue 1\"]"
   ]
  },
  {
   "cell_type": "code",
   "execution_count": 4,
   "metadata": {},
   "outputs": [],
   "source": [
    "pd.set_option('display.max_columns',None)"
   ]
  },
  {
   "cell_type": "code",
   "execution_count": 25,
   "metadata": {},
   "outputs": [
    {
     "data": {
      "text/html": [
       "<pre style=\"white-space:pre;overflow-x:auto;line-height:normal;font-family:Menlo,'DejaVu Sans Mono',consolas,'Courier New',monospace\"><span style=\"color: #7fbfbf; text-decoration-color: #7fbfbf\">[12/18/23 01:26:41] </span><span style=\"color: #000080; text-decoration-color: #000080\">INFO    </span> Saving cached data to C:\\Users\\ITOULI\\soccerdata\\data\\MatchHistory       <span style=\"color: #7f7f7f; text-decoration-color: #7f7f7f\">_common.py:91</span>\n",
       "</pre>\n"
      ],
      "text/plain": [
       "\u001b[2;36m[12/18/23 01:26:41]\u001b[0m\u001b[2;36m \u001b[0m\u001b[34mINFO    \u001b[0m Saving cached data to C:\\Users\\ITOULI\\soccerdata\\data\\MatchHistory       \u001b[2m_common.py\u001b[0m\u001b[2m:\u001b[0m\u001b[2m91\u001b[0m\n"
      ]
     },
     "metadata": {},
     "output_type": "display_data"
    },
    {
     "data": {
      "text/html": [
       "<pre style=\"white-space:pre;overflow-x:auto;line-height:normal;font-family:Menlo,'DejaVu Sans Mono',consolas,'Courier New',monospace\"><span style=\"color: #7fbfbf; text-decoration-color: #7fbfbf\">                    </span><span style=\"color: #000080; text-decoration-color: #000080\">INFO    </span> Saving cached data to C:\\Users\\ITOULI\\soccerdata\\data\\MatchHistory       <span style=\"color: #7f7f7f; text-decoration-color: #7f7f7f\">_common.py:91</span>\n",
       "</pre>\n"
      ],
      "text/plain": [
       "\u001b[2;36m                   \u001b[0m\u001b[2;36m \u001b[0m\u001b[34mINFO    \u001b[0m Saving cached data to C:\\Users\\ITOULI\\soccerdata\\data\\MatchHistory       \u001b[2m_common.py\u001b[0m\u001b[2m:\u001b[0m\u001b[2m91\u001b[0m\n"
      ]
     },
     "metadata": {},
     "output_type": "display_data"
    },
    {
     "data": {
      "text/html": [
       "<pre style=\"white-space:pre;overflow-x:auto;line-height:normal;font-family:Menlo,'DejaVu Sans Mono',consolas,'Courier New',monospace\"><span style=\"color: #7fbfbf; text-decoration-color: #7fbfbf\">                    </span><span style=\"color: #000080; text-decoration-color: #000080\">INFO    </span> Saving cached data to C:\\Users\\ITOULI\\soccerdata\\data\\MatchHistory       <span style=\"color: #7f7f7f; text-decoration-color: #7f7f7f\">_common.py:91</span>\n",
       "</pre>\n"
      ],
      "text/plain": [
       "\u001b[2;36m                   \u001b[0m\u001b[2;36m \u001b[0m\u001b[34mINFO    \u001b[0m Saving cached data to C:\\Users\\ITOULI\\soccerdata\\data\\MatchHistory       \u001b[2m_common.py\u001b[0m\u001b[2m:\u001b[0m\u001b[2m91\u001b[0m\n"
      ]
     },
     "metadata": {},
     "output_type": "display_data"
    },
    {
     "name": "stderr",
     "output_type": "stream",
     "text": [
      "c:\\Users\\ITOULI\\Desktop\\STUFF\\Master_Study\\s3\\BIG DATA\\projet\\myvenv\\Lib\\site-packages\\soccerdata\\_common.py:482: UserWarning: Season id \"2021\" is ambiguous: interpreting as \"20-21\"\n",
      "  warnings.warn(msg, stacklevel=1)\n"
     ]
    },
    {
     "data": {
      "text/html": [
       "<pre style=\"white-space:pre;overflow-x:auto;line-height:normal;font-family:Menlo,'DejaVu Sans Mono',consolas,'Courier New',monospace\"><span style=\"color: #7fbfbf; text-decoration-color: #7fbfbf\">                    </span><span style=\"color: #000080; text-decoration-color: #000080\">INFO    </span> Saving cached data to C:\\Users\\ITOULI\\soccerdata\\data\\MatchHistory       <span style=\"color: #7f7f7f; text-decoration-color: #7f7f7f\">_common.py:91</span>\n",
       "</pre>\n"
      ],
      "text/plain": [
       "\u001b[2;36m                   \u001b[0m\u001b[2;36m \u001b[0m\u001b[34mINFO    \u001b[0m Saving cached data to C:\\Users\\ITOULI\\soccerdata\\data\\MatchHistory       \u001b[2m_common.py\u001b[0m\u001b[2m:\u001b[0m\u001b[2m91\u001b[0m\n"
      ]
     },
     "metadata": {},
     "output_type": "display_data"
    },
    {
     "data": {
      "text/html": [
       "<pre style=\"white-space:pre;overflow-x:auto;line-height:normal;font-family:Menlo,'DejaVu Sans Mono',consolas,'Courier New',monospace\"><span style=\"color: #7fbfbf; text-decoration-color: #7fbfbf\">                    </span><span style=\"color: #000080; text-decoration-color: #000080\">INFO    </span> Saving cached data to C:\\Users\\ITOULI\\soccerdata\\data\\MatchHistory       <span style=\"color: #7f7f7f; text-decoration-color: #7f7f7f\">_common.py:91</span>\n",
       "</pre>\n"
      ],
      "text/plain": [
       "\u001b[2;36m                   \u001b[0m\u001b[2;36m \u001b[0m\u001b[34mINFO    \u001b[0m Saving cached data to C:\\Users\\ITOULI\\soccerdata\\data\\MatchHistory       \u001b[2m_common.py\u001b[0m\u001b[2m:\u001b[0m\u001b[2m91\u001b[0m\n"
      ]
     },
     "metadata": {},
     "output_type": "display_data"
    }
   ],
   "source": [
    "for season in seasons : \n",
    "    mh = sd.MatchHistory(leagues = \"ENG-Premier League\", seasons = season)\n",
    "    df = mh.read_games()\n",
    "    matchs_statitscs = df[['date','home_team', 'away_team', 'FTHG','FTAG','FTR','HTHG','HTAG','HTR','referee','HS','AS','HST','AST','HF','AF','HC','AC','HY','AY','HR','AR']]\n",
    "    matchs_statitscs.to_csv(\"premier_league/season-\"+season+\".csv\", index= False)"
   ]
  },
  {
   "cell_type": "markdown",
   "metadata": {},
   "source": [
    "data of the spanish league:"
   ]
  },
  {
   "cell_type": "code",
   "execution_count": 15,
   "metadata": {},
   "outputs": [
    {
     "data": {
      "text/html": [
       "<pre style=\"white-space:pre;overflow-x:auto;line-height:normal;font-family:Menlo,'DejaVu Sans Mono',consolas,'Courier New',monospace\"><span style=\"color: #7fbfbf; text-decoration-color: #7fbfbf\">[12/18/23 01:18:04] </span><span style=\"color: #000080; text-decoration-color: #000080\">INFO    </span> Saving cached data to C:\\Users\\ITOULI\\soccerdata\\data\\MatchHistory       <span style=\"color: #7f7f7f; text-decoration-color: #7f7f7f\">_common.py:91</span>\n",
       "</pre>\n"
      ],
      "text/plain": [
       "\u001b[2;36m[12/18/23 01:18:04]\u001b[0m\u001b[2;36m \u001b[0m\u001b[34mINFO    \u001b[0m Saving cached data to C:\\Users\\ITOULI\\soccerdata\\data\\MatchHistory       \u001b[2m_common.py\u001b[0m\u001b[2m:\u001b[0m\u001b[2m91\u001b[0m\n"
      ]
     },
     "metadata": {},
     "output_type": "display_data"
    },
    {
     "data": {
      "text/html": [
       "<pre style=\"white-space:pre;overflow-x:auto;line-height:normal;font-family:Menlo,'DejaVu Sans Mono',consolas,'Courier New',monospace\"><span style=\"color: #7fbfbf; text-decoration-color: #7fbfbf\">                    </span><span style=\"color: #000080; text-decoration-color: #000080\">INFO    </span> Saving cached data to C:\\Users\\ITOULI\\soccerdata\\data\\MatchHistory       <span style=\"color: #7f7f7f; text-decoration-color: #7f7f7f\">_common.py:91</span>\n",
       "</pre>\n"
      ],
      "text/plain": [
       "\u001b[2;36m                   \u001b[0m\u001b[2;36m \u001b[0m\u001b[34mINFO    \u001b[0m Saving cached data to C:\\Users\\ITOULI\\soccerdata\\data\\MatchHistory       \u001b[2m_common.py\u001b[0m\u001b[2m:\u001b[0m\u001b[2m91\u001b[0m\n"
      ]
     },
     "metadata": {},
     "output_type": "display_data"
    },
    {
     "data": {
      "text/html": [
       "<pre style=\"white-space:pre;overflow-x:auto;line-height:normal;font-family:Menlo,'DejaVu Sans Mono',consolas,'Courier New',monospace\"><span style=\"color: #7fbfbf; text-decoration-color: #7fbfbf\">                    </span><span style=\"color: #000080; text-decoration-color: #000080\">INFO    </span> Saving cached data to C:\\Users\\ITOULI\\soccerdata\\data\\MatchHistory       <span style=\"color: #7f7f7f; text-decoration-color: #7f7f7f\">_common.py:91</span>\n",
       "</pre>\n"
      ],
      "text/plain": [
       "\u001b[2;36m                   \u001b[0m\u001b[2;36m \u001b[0m\u001b[34mINFO    \u001b[0m Saving cached data to C:\\Users\\ITOULI\\soccerdata\\data\\MatchHistory       \u001b[2m_common.py\u001b[0m\u001b[2m:\u001b[0m\u001b[2m91\u001b[0m\n"
      ]
     },
     "metadata": {},
     "output_type": "display_data"
    },
    {
     "name": "stderr",
     "output_type": "stream",
     "text": [
      "c:\\Users\\ITOULI\\Desktop\\STUFF\\Master_Study\\s3\\BIG DATA\\projet\\myvenv\\Lib\\site-packages\\soccerdata\\_common.py:482: UserWarning: Season id \"2021\" is ambiguous: interpreting as \"20-21\"\n",
      "  warnings.warn(msg, stacklevel=1)\n"
     ]
    },
    {
     "data": {
      "text/html": [
       "<pre style=\"white-space:pre;overflow-x:auto;line-height:normal;font-family:Menlo,'DejaVu Sans Mono',consolas,'Courier New',monospace\"><span style=\"color: #7fbfbf; text-decoration-color: #7fbfbf\">                    </span><span style=\"color: #000080; text-decoration-color: #000080\">INFO    </span> Saving cached data to C:\\Users\\ITOULI\\soccerdata\\data\\MatchHistory       <span style=\"color: #7f7f7f; text-decoration-color: #7f7f7f\">_common.py:91</span>\n",
       "</pre>\n"
      ],
      "text/plain": [
       "\u001b[2;36m                   \u001b[0m\u001b[2;36m \u001b[0m\u001b[34mINFO    \u001b[0m Saving cached data to C:\\Users\\ITOULI\\soccerdata\\data\\MatchHistory       \u001b[2m_common.py\u001b[0m\u001b[2m:\u001b[0m\u001b[2m91\u001b[0m\n"
      ]
     },
     "metadata": {},
     "output_type": "display_data"
    },
    {
     "data": {
      "text/html": [
       "<pre style=\"white-space:pre;overflow-x:auto;line-height:normal;font-family:Menlo,'DejaVu Sans Mono',consolas,'Courier New',monospace\"><span style=\"color: #7fbfbf; text-decoration-color: #7fbfbf\">                    </span><span style=\"color: #000080; text-decoration-color: #000080\">INFO    </span> Saving cached data to C:\\Users\\ITOULI\\soccerdata\\data\\MatchHistory       <span style=\"color: #7f7f7f; text-decoration-color: #7f7f7f\">_common.py:91</span>\n",
       "</pre>\n"
      ],
      "text/plain": [
       "\u001b[2;36m                   \u001b[0m\u001b[2;36m \u001b[0m\u001b[34mINFO    \u001b[0m Saving cached data to C:\\Users\\ITOULI\\soccerdata\\data\\MatchHistory       \u001b[2m_common.py\u001b[0m\u001b[2m:\u001b[0m\u001b[2m91\u001b[0m\n"
      ]
     },
     "metadata": {},
     "output_type": "display_data"
    }
   ],
   "source": [
    "for season in seasons :\n",
    "    mh = sd.MatchHistory(leagues = \"ESP-La Liga\", seasons = season)\n",
    "    df = mh.read_games()\n",
    "    matchs_statitscs = df[['date','home_team', 'away_team', 'FTHG','FTAG','FTR','HTHG','HTAG','HTR','HS','AS','HST','AST','HF','AF','HC','AC','HY','AY','HR','AR']]\n",
    "    matchs_statitscs.to_csv(\"la_liga/season-\"+season+\".csv\", index= False)"
   ]
  },
  {
   "cell_type": "markdown",
   "metadata": {},
   "source": [
    "data of Italia serie A league"
   ]
  },
  {
   "cell_type": "code",
   "execution_count": 20,
   "metadata": {},
   "outputs": [
    {
     "data": {
      "text/html": [
       "<pre style=\"white-space:pre;overflow-x:auto;line-height:normal;font-family:Menlo,'DejaVu Sans Mono',consolas,'Courier New',monospace\"><span style=\"color: #7fbfbf; text-decoration-color: #7fbfbf\">[12/18/23 01:22:21] </span><span style=\"color: #000080; text-decoration-color: #000080\">INFO    </span> Saving cached data to C:\\Users\\ITOULI\\soccerdata\\data\\MatchHistory       <span style=\"color: #7f7f7f; text-decoration-color: #7f7f7f\">_common.py:91</span>\n",
       "</pre>\n"
      ],
      "text/plain": [
       "\u001b[2;36m[12/18/23 01:22:21]\u001b[0m\u001b[2;36m \u001b[0m\u001b[34mINFO    \u001b[0m Saving cached data to C:\\Users\\ITOULI\\soccerdata\\data\\MatchHistory       \u001b[2m_common.py\u001b[0m\u001b[2m:\u001b[0m\u001b[2m91\u001b[0m\n"
      ]
     },
     "metadata": {},
     "output_type": "display_data"
    },
    {
     "data": {
      "text/html": [
       "<pre style=\"white-space:pre;overflow-x:auto;line-height:normal;font-family:Menlo,'DejaVu Sans Mono',consolas,'Courier New',monospace\"><span style=\"color: #7fbfbf; text-decoration-color: #7fbfbf\">                    </span><span style=\"color: #000080; text-decoration-color: #000080\">INFO    </span> Saving cached data to C:\\Users\\ITOULI\\soccerdata\\data\\MatchHistory       <span style=\"color: #7f7f7f; text-decoration-color: #7f7f7f\">_common.py:91</span>\n",
       "</pre>\n"
      ],
      "text/plain": [
       "\u001b[2;36m                   \u001b[0m\u001b[2;36m \u001b[0m\u001b[34mINFO    \u001b[0m Saving cached data to C:\\Users\\ITOULI\\soccerdata\\data\\MatchHistory       \u001b[2m_common.py\u001b[0m\u001b[2m:\u001b[0m\u001b[2m91\u001b[0m\n"
      ]
     },
     "metadata": {},
     "output_type": "display_data"
    },
    {
     "data": {
      "text/html": [
       "<pre style=\"white-space:pre;overflow-x:auto;line-height:normal;font-family:Menlo,'DejaVu Sans Mono',consolas,'Courier New',monospace\"><span style=\"color: #7fbfbf; text-decoration-color: #7fbfbf\">                    </span><span style=\"color: #000080; text-decoration-color: #000080\">INFO    </span> Saving cached data to C:\\Users\\ITOULI\\soccerdata\\data\\MatchHistory       <span style=\"color: #7f7f7f; text-decoration-color: #7f7f7f\">_common.py:91</span>\n",
       "</pre>\n"
      ],
      "text/plain": [
       "\u001b[2;36m                   \u001b[0m\u001b[2;36m \u001b[0m\u001b[34mINFO    \u001b[0m Saving cached data to C:\\Users\\ITOULI\\soccerdata\\data\\MatchHistory       \u001b[2m_common.py\u001b[0m\u001b[2m:\u001b[0m\u001b[2m91\u001b[0m\n"
      ]
     },
     "metadata": {},
     "output_type": "display_data"
    },
    {
     "name": "stderr",
     "output_type": "stream",
     "text": [
      "c:\\Users\\ITOULI\\Desktop\\STUFF\\Master_Study\\s3\\BIG DATA\\projet\\myvenv\\Lib\\site-packages\\soccerdata\\_common.py:482: UserWarning: Season id \"2021\" is ambiguous: interpreting as \"20-21\"\n",
      "  warnings.warn(msg, stacklevel=1)\n"
     ]
    },
    {
     "data": {
      "text/html": [
       "<pre style=\"white-space:pre;overflow-x:auto;line-height:normal;font-family:Menlo,'DejaVu Sans Mono',consolas,'Courier New',monospace\"><span style=\"color: #7fbfbf; text-decoration-color: #7fbfbf\">                    </span><span style=\"color: #000080; text-decoration-color: #000080\">INFO    </span> Saving cached data to C:\\Users\\ITOULI\\soccerdata\\data\\MatchHistory       <span style=\"color: #7f7f7f; text-decoration-color: #7f7f7f\">_common.py:91</span>\n",
       "</pre>\n"
      ],
      "text/plain": [
       "\u001b[2;36m                   \u001b[0m\u001b[2;36m \u001b[0m\u001b[34mINFO    \u001b[0m Saving cached data to C:\\Users\\ITOULI\\soccerdata\\data\\MatchHistory       \u001b[2m_common.py\u001b[0m\u001b[2m:\u001b[0m\u001b[2m91\u001b[0m\n"
      ]
     },
     "metadata": {},
     "output_type": "display_data"
    },
    {
     "data": {
      "text/html": [
       "<pre style=\"white-space:pre;overflow-x:auto;line-height:normal;font-family:Menlo,'DejaVu Sans Mono',consolas,'Courier New',monospace\"><span style=\"color: #7fbfbf; text-decoration-color: #7fbfbf\">                    </span><span style=\"color: #000080; text-decoration-color: #000080\">INFO    </span> Saving cached data to C:\\Users\\ITOULI\\soccerdata\\data\\MatchHistory       <span style=\"color: #7f7f7f; text-decoration-color: #7f7f7f\">_common.py:91</span>\n",
       "</pre>\n"
      ],
      "text/plain": [
       "\u001b[2;36m                   \u001b[0m\u001b[2;36m \u001b[0m\u001b[34mINFO    \u001b[0m Saving cached data to C:\\Users\\ITOULI\\soccerdata\\data\\MatchHistory       \u001b[2m_common.py\u001b[0m\u001b[2m:\u001b[0m\u001b[2m91\u001b[0m\n"
      ]
     },
     "metadata": {},
     "output_type": "display_data"
    }
   ],
   "source": [
    "for season in seasons :\n",
    "    mh = sd.MatchHistory(leagues = \"ITA-Serie A\", seasons = season)\n",
    "    df = mh.read_games()\n",
    "    matchs_statitscs = df[['date','home_team', 'away_team', 'FTHG','FTAG','FTR','HTHG','HTAG','HTR','HS','AS','HST','AST','HF','AF','HC','AC','HY','AY','HR','AR']]\n",
    "    matchs_statitscs.to_csv(\"italia_serie_A/season-\"+season+\".csv\", index= False)"
   ]
  },
  {
   "cell_type": "markdown",
   "metadata": {},
   "source": [
    "data of german league"
   ]
  },
  {
   "cell_type": "code",
   "execution_count": 22,
   "metadata": {},
   "outputs": [
    {
     "data": {
      "text/html": [
       "<pre style=\"white-space:pre;overflow-x:auto;line-height:normal;font-family:Menlo,'DejaVu Sans Mono',consolas,'Courier New',monospace\"><span style=\"color: #7fbfbf; text-decoration-color: #7fbfbf\">[12/18/23 01:22:46] </span><span style=\"color: #000080; text-decoration-color: #000080\">INFO    </span> Saving cached data to C:\\Users\\ITOULI\\soccerdata\\data\\MatchHistory       <span style=\"color: #7f7f7f; text-decoration-color: #7f7f7f\">_common.py:91</span>\n",
       "</pre>\n"
      ],
      "text/plain": [
       "\u001b[2;36m[12/18/23 01:22:46]\u001b[0m\u001b[2;36m \u001b[0m\u001b[34mINFO    \u001b[0m Saving cached data to C:\\Users\\ITOULI\\soccerdata\\data\\MatchHistory       \u001b[2m_common.py\u001b[0m\u001b[2m:\u001b[0m\u001b[2m91\u001b[0m\n"
      ]
     },
     "metadata": {},
     "output_type": "display_data"
    },
    {
     "data": {
      "text/html": [
       "<pre style=\"white-space:pre;overflow-x:auto;line-height:normal;font-family:Menlo,'DejaVu Sans Mono',consolas,'Courier New',monospace\"><span style=\"color: #7fbfbf; text-decoration-color: #7fbfbf\">                    </span><span style=\"color: #000080; text-decoration-color: #000080\">INFO    </span> Saving cached data to C:\\Users\\ITOULI\\soccerdata\\data\\MatchHistory       <span style=\"color: #7f7f7f; text-decoration-color: #7f7f7f\">_common.py:91</span>\n",
       "</pre>\n"
      ],
      "text/plain": [
       "\u001b[2;36m                   \u001b[0m\u001b[2;36m \u001b[0m\u001b[34mINFO    \u001b[0m Saving cached data to C:\\Users\\ITOULI\\soccerdata\\data\\MatchHistory       \u001b[2m_common.py\u001b[0m\u001b[2m:\u001b[0m\u001b[2m91\u001b[0m\n"
      ]
     },
     "metadata": {},
     "output_type": "display_data"
    },
    {
     "data": {
      "text/html": [
       "<pre style=\"white-space:pre;overflow-x:auto;line-height:normal;font-family:Menlo,'DejaVu Sans Mono',consolas,'Courier New',monospace\"><span style=\"color: #7fbfbf; text-decoration-color: #7fbfbf\">                    </span><span style=\"color: #000080; text-decoration-color: #000080\">INFO    </span> Saving cached data to C:\\Users\\ITOULI\\soccerdata\\data\\MatchHistory       <span style=\"color: #7f7f7f; text-decoration-color: #7f7f7f\">_common.py:91</span>\n",
       "</pre>\n"
      ],
      "text/plain": [
       "\u001b[2;36m                   \u001b[0m\u001b[2;36m \u001b[0m\u001b[34mINFO    \u001b[0m Saving cached data to C:\\Users\\ITOULI\\soccerdata\\data\\MatchHistory       \u001b[2m_common.py\u001b[0m\u001b[2m:\u001b[0m\u001b[2m91\u001b[0m\n"
      ]
     },
     "metadata": {},
     "output_type": "display_data"
    },
    {
     "name": "stderr",
     "output_type": "stream",
     "text": [
      "c:\\Users\\ITOULI\\Desktop\\STUFF\\Master_Study\\s3\\BIG DATA\\projet\\myvenv\\Lib\\site-packages\\soccerdata\\_common.py:482: UserWarning: Season id \"2021\" is ambiguous: interpreting as \"20-21\"\n",
      "  warnings.warn(msg, stacklevel=1)\n"
     ]
    },
    {
     "data": {
      "text/html": [
       "<pre style=\"white-space:pre;overflow-x:auto;line-height:normal;font-family:Menlo,'DejaVu Sans Mono',consolas,'Courier New',monospace\"><span style=\"color: #7fbfbf; text-decoration-color: #7fbfbf\">                    </span><span style=\"color: #000080; text-decoration-color: #000080\">INFO    </span> Saving cached data to C:\\Users\\ITOULI\\soccerdata\\data\\MatchHistory       <span style=\"color: #7f7f7f; text-decoration-color: #7f7f7f\">_common.py:91</span>\n",
       "</pre>\n"
      ],
      "text/plain": [
       "\u001b[2;36m                   \u001b[0m\u001b[2;36m \u001b[0m\u001b[34mINFO    \u001b[0m Saving cached data to C:\\Users\\ITOULI\\soccerdata\\data\\MatchHistory       \u001b[2m_common.py\u001b[0m\u001b[2m:\u001b[0m\u001b[2m91\u001b[0m\n"
      ]
     },
     "metadata": {},
     "output_type": "display_data"
    },
    {
     "data": {
      "text/html": [
       "<pre style=\"white-space:pre;overflow-x:auto;line-height:normal;font-family:Menlo,'DejaVu Sans Mono',consolas,'Courier New',monospace\"><span style=\"color: #7fbfbf; text-decoration-color: #7fbfbf\">                    </span><span style=\"color: #000080; text-decoration-color: #000080\">INFO    </span> Saving cached data to C:\\Users\\ITOULI\\soccerdata\\data\\MatchHistory       <span style=\"color: #7f7f7f; text-decoration-color: #7f7f7f\">_common.py:91</span>\n",
       "</pre>\n"
      ],
      "text/plain": [
       "\u001b[2;36m                   \u001b[0m\u001b[2;36m \u001b[0m\u001b[34mINFO    \u001b[0m Saving cached data to C:\\Users\\ITOULI\\soccerdata\\data\\MatchHistory       \u001b[2m_common.py\u001b[0m\u001b[2m:\u001b[0m\u001b[2m91\u001b[0m\n"
      ]
     },
     "metadata": {},
     "output_type": "display_data"
    }
   ],
   "source": [
    "for season in seasons :\n",
    "    mh = sd.MatchHistory(leagues = \"GER-Bundesliga\", seasons = season)\n",
    "    df = mh.read_games()\n",
    "    matchs_statitscs = df[['date','home_team', 'away_team', 'FTHG','FTAG','FTR','HTHG','HTAG','HTR','HS','AS','HST','AST','HF','AF','HC','AC','HY','AY','HR','AR']]\n",
    "    matchs_statitscs.to_csv(\"bundesliga/season-\"+season+\".csv\", index= False)"
   ]
  },
  {
   "cell_type": "markdown",
   "metadata": {},
   "source": [
    "data of the French League"
   ]
  },
  {
   "cell_type": "code",
   "execution_count": 24,
   "metadata": {},
   "outputs": [
    {
     "data": {
      "text/html": [
       "<pre style=\"white-space:pre;overflow-x:auto;line-height:normal;font-family:Menlo,'DejaVu Sans Mono',consolas,'Courier New',monospace\"><span style=\"color: #7fbfbf; text-decoration-color: #7fbfbf\">[12/18/23 01:23:46] </span><span style=\"color: #000080; text-decoration-color: #000080\">INFO    </span> Saving cached data to C:\\Users\\ITOULI\\soccerdata\\data\\MatchHistory       <span style=\"color: #7f7f7f; text-decoration-color: #7f7f7f\">_common.py:91</span>\n",
       "</pre>\n"
      ],
      "text/plain": [
       "\u001b[2;36m[12/18/23 01:23:46]\u001b[0m\u001b[2;36m \u001b[0m\u001b[34mINFO    \u001b[0m Saving cached data to C:\\Users\\ITOULI\\soccerdata\\data\\MatchHistory       \u001b[2m_common.py\u001b[0m\u001b[2m:\u001b[0m\u001b[2m91\u001b[0m\n"
      ]
     },
     "metadata": {},
     "output_type": "display_data"
    },
    {
     "data": {
      "text/html": [
       "<pre style=\"white-space:pre;overflow-x:auto;line-height:normal;font-family:Menlo,'DejaVu Sans Mono',consolas,'Courier New',monospace\"><span style=\"color: #7fbfbf; text-decoration-color: #7fbfbf\">                    </span><span style=\"color: #000080; text-decoration-color: #000080\">INFO    </span> Saving cached data to C:\\Users\\ITOULI\\soccerdata\\data\\MatchHistory       <span style=\"color: #7f7f7f; text-decoration-color: #7f7f7f\">_common.py:91</span>\n",
       "</pre>\n"
      ],
      "text/plain": [
       "\u001b[2;36m                   \u001b[0m\u001b[2;36m \u001b[0m\u001b[34mINFO    \u001b[0m Saving cached data to C:\\Users\\ITOULI\\soccerdata\\data\\MatchHistory       \u001b[2m_common.py\u001b[0m\u001b[2m:\u001b[0m\u001b[2m91\u001b[0m\n"
      ]
     },
     "metadata": {},
     "output_type": "display_data"
    },
    {
     "data": {
      "text/html": [
       "<pre style=\"white-space:pre;overflow-x:auto;line-height:normal;font-family:Menlo,'DejaVu Sans Mono',consolas,'Courier New',monospace\"><span style=\"color: #7fbfbf; text-decoration-color: #7fbfbf\">                    </span><span style=\"color: #000080; text-decoration-color: #000080\">INFO    </span> Saving cached data to C:\\Users\\ITOULI\\soccerdata\\data\\MatchHistory       <span style=\"color: #7f7f7f; text-decoration-color: #7f7f7f\">_common.py:91</span>\n",
       "</pre>\n"
      ],
      "text/plain": [
       "\u001b[2;36m                   \u001b[0m\u001b[2;36m \u001b[0m\u001b[34mINFO    \u001b[0m Saving cached data to C:\\Users\\ITOULI\\soccerdata\\data\\MatchHistory       \u001b[2m_common.py\u001b[0m\u001b[2m:\u001b[0m\u001b[2m91\u001b[0m\n"
      ]
     },
     "metadata": {},
     "output_type": "display_data"
    },
    {
     "name": "stderr",
     "output_type": "stream",
     "text": [
      "c:\\Users\\ITOULI\\Desktop\\STUFF\\Master_Study\\s3\\BIG DATA\\projet\\myvenv\\Lib\\site-packages\\soccerdata\\_common.py:482: UserWarning: Season id \"2021\" is ambiguous: interpreting as \"20-21\"\n",
      "  warnings.warn(msg, stacklevel=1)\n"
     ]
    },
    {
     "data": {
      "text/html": [
       "<pre style=\"white-space:pre;overflow-x:auto;line-height:normal;font-family:Menlo,'DejaVu Sans Mono',consolas,'Courier New',monospace\"><span style=\"color: #7fbfbf; text-decoration-color: #7fbfbf\">[12/18/23 01:23:47] </span><span style=\"color: #000080; text-decoration-color: #000080\">INFO    </span> Saving cached data to C:\\Users\\ITOULI\\soccerdata\\data\\MatchHistory       <span style=\"color: #7f7f7f; text-decoration-color: #7f7f7f\">_common.py:91</span>\n",
       "</pre>\n"
      ],
      "text/plain": [
       "\u001b[2;36m[12/18/23 01:23:47]\u001b[0m\u001b[2;36m \u001b[0m\u001b[34mINFO    \u001b[0m Saving cached data to C:\\Users\\ITOULI\\soccerdata\\data\\MatchHistory       \u001b[2m_common.py\u001b[0m\u001b[2m:\u001b[0m\u001b[2m91\u001b[0m\n"
      ]
     },
     "metadata": {},
     "output_type": "display_data"
    },
    {
     "data": {
      "text/html": [
       "<pre style=\"white-space:pre;overflow-x:auto;line-height:normal;font-family:Menlo,'DejaVu Sans Mono',consolas,'Courier New',monospace\"><span style=\"color: #7fbfbf; text-decoration-color: #7fbfbf\">                    </span><span style=\"color: #000080; text-decoration-color: #000080\">INFO    </span> Saving cached data to C:\\Users\\ITOULI\\soccerdata\\data\\MatchHistory       <span style=\"color: #7f7f7f; text-decoration-color: #7f7f7f\">_common.py:91</span>\n",
       "</pre>\n"
      ],
      "text/plain": [
       "\u001b[2;36m                   \u001b[0m\u001b[2;36m \u001b[0m\u001b[34mINFO    \u001b[0m Saving cached data to C:\\Users\\ITOULI\\soccerdata\\data\\MatchHistory       \u001b[2m_common.py\u001b[0m\u001b[2m:\u001b[0m\u001b[2m91\u001b[0m\n"
      ]
     },
     "metadata": {},
     "output_type": "display_data"
    }
   ],
   "source": [
    "for season in seasons :\n",
    "    mh = sd.MatchHistory(leagues = \"FRA-Ligue 1\", seasons = season)\n",
    "    df = mh.read_games()\n",
    "    matchs_statitscs = df[['date','home_team', 'away_team', 'FTHG','FTAG','FTR','HTHG','HTAG','HTR','HS','AS','HST','AST','HF','AF','HC','AC','HY','AY','HR','AR']]\n",
    "    matchs_statitscs.to_csv(\"fra_ligue/season-\"+season+\".csv\", index= False)"
   ]
  },
  {
   "cell_type": "code",
   "execution_count": null,
   "metadata": {},
   "outputs": [],
   "source": []
  }
 ],
 "metadata": {
  "kernelspec": {
   "display_name": "myvenv",
   "language": "python",
   "name": "python3"
  },
  "language_info": {
   "codemirror_mode": {
    "name": "ipython",
    "version": 3
   },
   "file_extension": ".py",
   "mimetype": "text/x-python",
   "name": "python",
   "nbconvert_exporter": "python",
   "pygments_lexer": "ipython3",
   "version": "3.11.5"
  }
 },
 "nbformat": 4,
 "nbformat_minor": 2
}
