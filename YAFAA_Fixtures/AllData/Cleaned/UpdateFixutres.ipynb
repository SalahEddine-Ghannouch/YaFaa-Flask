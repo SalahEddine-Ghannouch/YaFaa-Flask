{
 "cells": [
  {
   "cell_type": "code",
   "execution_count": 109,
   "metadata": {},
   "outputs": [],
   "source": [
    "import pandas as pd\n",
    "from datetime import date, datetime, timedelta\n",
    "import pandas\n",
    "pandas.set_option('display.max_columns', None)"
   ]
  },
  {
   "cell_type": "code",
   "execution_count": 110,
   "metadata": {},
   "outputs": [],
   "source": [
    "csv_files = [ '39data.csv' , 'ENG_Premier_League_elo.csv' , \n",
    "              '61data.csv' , 'FRA_Ligue_1_elo.csv', \n",
    "              '78data.csv' , 'GER_Bundesliga_elo.csv', \n",
    "              '135data.csv', 'ITA_Serie_A_elo.csv', \n",
    "              '140data.csv', 'ESP_La_Liga_elo.csv']"
   ]
  },
  {
   "cell_type": "code",
   "execution_count": 120,
   "metadata": {},
   "outputs": [],
   "source": [
    "def addWeek(data):  \n",
    "    # Define the variable to be incremented\n",
    "    starting = date.fromisoformat('2010-08-07')\n",
    "    data['fixture_date'] = pd.to_datetime(data['fixture_date'])\n",
    "\n",
    "    # check in which date interval the current date belongs\n",
    "    def assign_week(row):\n",
    "        nonlocal starting\n",
    "        if (row['fixture_date'].date() - starting).days < 7:\n",
    "            return starting\n",
    "        else:\n",
    "            while (row['fixture_date'].date() - starting).days > 7:\n",
    "                if starting.month == 7:\n",
    "                    starting = starting.replace(month=8, day=7)\n",
    "                else:\n",
    "                    starting += timedelta(days=7)\n",
    "            starting += timedelta(days=7)\n",
    "            return starting\n",
    "\n",
    "    # add the new week column\n",
    "    data['week'] = data.apply(assign_week, axis=1)"
   ]
  },
  {
   "cell_type": "code",
   "execution_count": 124,
   "metadata": {},
   "outputs": [],
   "source": [
    "def joinOnWeek(fixture, elo, fixt_team):\n",
    "  fixture['week'] = pd.to_datetime(fixture['week'])\n",
    "  elo['week'] = pd.to_datetime(elo['week'])\n",
    "  merged = pd.merge(fixture, elo,  left_on=[fixt_team, 'week'], right_on=['team', 'week'])\n",
    "  return merged"
   ]
  },
  {
   "cell_type": "code",
   "execution_count": 51,
   "metadata": {},
   "outputs": [],
   "source": [
    "def dropColumns(fixture, columns_to_drop):\n",
    "  #columns_to_drop = ['team', 'country', 'league']\n",
    "  fixture = fixture.drop(columns=columns_to_drop, axis=1)\n",
    "  return fixture"
   ]
  },
  {
   "cell_type": "code",
   "execution_count": 52,
   "metadata": {},
   "outputs": [],
   "source": [
    "def RenameElo(fixture, old_elo, new_elo, old_rank, new_rank):\n",
    "  fixture.rename(columns={old_elo: new_elo}, inplace=True)\n",
    "  fixture.rename(columns={old_rank: new_rank}, inplace=True)\n",
    "  return fixture"
   ]
  },
  {
   "cell_type": "code",
   "execution_count": 53,
   "metadata": {},
   "outputs": [],
   "source": [
    "def ReturnJoinedData(fixture, elo):\n",
    "  addWeek(fixture)\n",
    "  home = joinOnWeek(fixture, elo, 'teams_home_name')\n",
    "  home = dropColumns(home, columns_to_drop = ['team', 'country', 'league'])\n",
    "  home = RenameElo(home, 'elo', 'home_elo', 'rank', 'home_rank')\n",
    "\n",
    "  away = joinOnWeek(home, elo, 'teams_away_name')\n",
    "  away = dropColumns(away, columns_to_drop = ['team', 'country', 'league', 'week'])\n",
    "  away = RenameElo(away, 'elo', 'away_elo', 'rank', 'away_rank')\n",
    "  return away"
   ]
  },
  {
   "cell_type": "code",
   "execution_count": 54,
   "metadata": {},
   "outputs": [],
   "source": [
    "for i in range(0, len(csv_files), 2):\n",
    "  data = pd.read_csv(csv_files[i])\n",
    "  elo = pd.read_csv(csv_files[i + 1])\n",
    "\n",
    "  FixElo = ReturnJoinedData(data, elo)\n",
    "  FixElo.to_csv('C:\\\\Users\\\\Imad\\\\Desktop\\\\S3\\\\BigData\\\\YaFaa-Flask\\\\YAFAA_Fixtures_Elo\\\\Fixtures_' + csv_files[i + 1], index=False)  "
   ]
  }
 ],
 "metadata": {
  "kernelspec": {
   "display_name": "Python 3",
   "language": "python",
   "name": "python3"
  },
  "language_info": {
   "codemirror_mode": {
    "name": "ipython",
    "version": 3
   },
   "file_extension": ".py",
   "mimetype": "text/x-python",
   "name": "python",
   "nbconvert_exporter": "python",
   "pygments_lexer": "ipython3",
   "version": "3.11.5"
  }
 },
 "nbformat": 4,
 "nbformat_minor": 2
}
